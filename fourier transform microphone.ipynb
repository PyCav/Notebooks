{
 "cells": [
  {
   "cell_type": "code",
   "execution_count": 25,
   "metadata": {
    "collapsed": false
   },
   "outputs": [
    {
     "data": {
      "image/png": "[encoded data removed]",
      "text/plain": [
       "<matplotlib.figure.Figure at 0x10969d490>"
      ]
     },
     "metadata": {},
     "output_type": "display_data"
    }
   ],
   "source": [
    "%matplotlib inline\n",
    "import pyaudio\n",
    "import sys\n",
    "import numpy as np\n",
    "from matplotlib import pyplot as plt\n",
    "\n",
    "chunk = 2**12\n",
    "FORMAT = pyaudio.paInt16\n",
    "CHANNELS = 1\n",
    "RATE = 44100\n",
    "RECORD_SECONDS = 1\n",
    "\n",
    "p = pyaudio.PyAudio()\n",
    "\n",
    "stream = p.open(format=FORMAT,\n",
    "                channels=CHANNELS, \n",
    "                rate=RATE, \n",
    "                input=True,\n",
    "                output=True,\n",
    "                frames_per_buffer=chunk)\n",
    "\n",
    "data = \"\".join(stream.read(chunk) for i in range(0, 44100 / chunk * RECORD_SECONDS))\n",
    "data = np.fromstring(data, dtype = np.int16)\n",
    "plt.plot(data)\n",
    "\n",
    "#import collections\n",
    "#ring_buffer = collections.deque(maxlen = 44100 / chunk * RECORD_SECONDS)\n",
    "#while True:\n",
    "#    try:\n",
    "#        capture = np.fromstring(stream.read(chunk), dtype = np.int16)\n",
    "#        ring_buffer.append(capture)\n",
    "#        plt.plot(ring_buffer)\n",
    "#    except:\n",
    "#        pass\n",
    "    \n",
    "   \n",
    "\"\"\"\n",
    "Creating the audio stream from our mic\n",
    "\"\"\"\n",
    "rate=48000\n",
    "self.chunk=2**12\n",
    "width = 2\n",
    "\n",
    "p = pyaudio.PyAudio()\n",
    "\n",
    "# callback function to stream audio, another thread.\n",
    "def callback(in_data,frame_count, time_info, status):\n",
    "    self.audio = numpy.fromstring(in_data,dtype=numpy.int16)\n",
    "    return (self.audio, pyaudio.paContinue)\n",
    "\n",
    "#create a pyaudio object\n",
    "self.inStream = p.open(format = p.get_format_from_width(width, unsigned=False),\n",
    "                       channels=1,\n",
    "                       rate=rate,\n",
    "                       input=True,\n",
    "                       frames_per_buffer=self.chunk,\n",
    "                       stream_callback = callback)\n",
    "\n",
    "stream.stop_stream()\n",
    "stream.close()\n",
    "p.terminate()"
   ]
  },
  {
   "cell_type": "code",
   "execution_count": 24,
   "metadata": {
    "collapsed": false
   },
   "outputs": [
    {
     "data": {
      "text/plain": [
       "44100.0"
      ]
     },
     "execution_count": 24,
     "metadata": {},
     "output_type": "execute_result"
    }
   ],
   "source": [
    "import numpy as np\n",
    "%matplotlib inline\n",
    "import pyaudio\n",
    "import sys\n",
    "from matplotlib import pyplot as plt\n",
    "\n",
    "class VUmeter(object):\n",
    "    def __init__(self):\n",
    "        \"\"\"\n",
    "        Creating the audio stream from our mic\n",
    "        \"\"\"\n",
    "        self.rate=44100\n",
    "        self.chunk=2**12\n",
    "        self.width = 2\n",
    "\n",
    "        p = pyaudio.PyAudio()\n",
    "\n",
    "        # callback function to stream audio, another thread.\n",
    "        def callback(in_data,frame_count, time_info, status):\n",
    "            self.audio = np.fromstring(in_data,dtype=np.int16)\n",
    "            return (self.audio, pyaudio.paContinue)\n",
    "\n",
    "        #create a pyaudio object\n",
    "        self.inStream = p.open(format = p.get_format_from_width(width, unsigned=False),\n",
    "                               channels=1,\n",
    "                               rate=rate,\n",
    "                               input=True,\n",
    "                               frames_per_buffer=self.chunk,\n",
    "                               stream_callback = callback)\n",
    "\n",
    "        \"\"\"\n",
    "        Setting up the array that will handle the timeseries of audio data from our input\n",
    "        \"\"\"\n",
    "        self.audio = numpy.empty((self.buffersize),dtype=\"int16\")\n",
    "\n",
    "            self.inStream.start_stream()\n",
    "\n",
    "        while True:\n",
    "          try:\n",
    "            self.ANY_FUNCTION() #any function to run parallel to the audio thread, running forever, until ctrl+C is pressed. \n",
    "\n",
    "          except KeyboardInterrupt:\n",
    "\n",
    "            self.inStream.stop_stream()\n",
    "            self.inStream.close()\n",
    "            p.terminate()\n",
    "            print(\"* Killed Process\")\n",
    "            quit()"
   ]
  },
  {
   "cell_type": "code",
   "execution_count": null,
   "metadata": {
    "collapsed": true
   },
   "outputs": [],
   "source": []
  }
 ],
 "metadata": {
  "kernelspec": {
   "display_name": "Python 2",
   "language": "python",
   "name": "python2"
  },
  "language_info": {
   "codemirror_mode": {
    "name": "ipython",
    "version": 2
   },
   "file_extension": ".py",
   "mimetype": "text/x-python",
   "name": "python",
   "nbconvert_exporter": "python",
   "pygments_lexer": "ipython2",
   "version": "2.7.10"
  }
 },
 "nbformat": 4,
 "nbformat_minor": 0
}
