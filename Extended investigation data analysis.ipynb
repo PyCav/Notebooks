{
 "cells": [
  {
   "cell_type": "code",
   "execution_count": 427,
   "metadata": {
    "collapsed": false,
    "scrolled": false
   },
   "outputs": [],
   "source": [
    "%matplotlib inline\n",
    "import numpy as np\n",
    "from matplotlib import pyplot as plt\n",
    "plt.rcParams['figure.figsize'] = (10.0, 8.0)"
   ]
  },
  {
   "cell_type": "markdown",
   "metadata": {},
   "source": [
    "$$ d \\sin{\\theta} = m \\lambda $$\n",
    "\n",
    "$$ \\frac{d y}{D} = m \\lambda $$\n"
   ]
  },
  {
   "cell_type": "code",
   "execution_count": 438,
   "metadata": {
    "collapsed": false
   },
   "outputs": [
    {
     "data": {
      "text/html": [
       "<div>\n",
       "<table border=\"1\" class=\"dataframe\">\n",
       "  <thead>\n",
       "    <tr style=\"text-align: right;\">\n",
       "      <th></th>\n",
       "      <th>d_b</th>\n",
       "      <th>d_t</th>\n",
       "      <th>original d</th>\n",
       "      <th>d</th>\n",
       "      <th>delta_d</th>\n",
       "      <th>y</th>\n",
       "      <th>delta_y</th>\n",
       "      <th>n</th>\n",
       "      <th>D</th>\n",
       "      <th>D_h</th>\n",
       "      <th>D_v</th>\n",
       "      <th>delta_D_h</th>\n",
       "    </tr>\n",
       "  </thead>\n",
       "  <tbody>\n",
       "    <tr>\n",
       "      <th>0</th>\n",
       "      <td>0.4974</td>\n",
       "      <td>0.4960</td>\n",
       "      <td>0.000497</td>\n",
       "      <td>0.000500</td>\n",
       "      <td>7.000000e-07</td>\n",
       "      <td>0.006500</td>\n",
       "      <td>0.000036</td>\n",
       "      <td>29</td>\n",
       "      <td>5.162857</td>\n",
       "      <td>5.16277</td>\n",
       "      <td>0.03</td>\n",
       "      <td>0.005</td>\n",
       "    </tr>\n",
       "    <tr>\n",
       "      <th>1</th>\n",
       "      <td>0.1954</td>\n",
       "      <td>0.1971</td>\n",
       "      <td>0.000196</td>\n",
       "      <td>0.000200</td>\n",
       "      <td>8.500000e-07</td>\n",
       "      <td>0.016200</td>\n",
       "      <td>0.000200</td>\n",
       "      <td>11</td>\n",
       "      <td>5.162857</td>\n",
       "      <td>5.16277</td>\n",
       "      <td>0.03</td>\n",
       "      <td>0.005</td>\n",
       "    </tr>\n",
       "    <tr>\n",
       "      <th>2</th>\n",
       "      <td>0.1015</td>\n",
       "      <td>0.0988</td>\n",
       "      <td>0.000100</td>\n",
       "      <td>0.000100</td>\n",
       "      <td>1.350000e-06</td>\n",
       "      <td>0.032167</td>\n",
       "      <td>0.000500</td>\n",
       "      <td>7</td>\n",
       "      <td>5.162857</td>\n",
       "      <td>5.16277</td>\n",
       "      <td>0.03</td>\n",
       "      <td>0.005</td>\n",
       "    </tr>\n",
       "    <tr>\n",
       "      <th>3</th>\n",
       "      <td>0.0509</td>\n",
       "      <td>0.0484</td>\n",
       "      <td>0.000050</td>\n",
       "      <td>0.000050</td>\n",
       "      <td>1.250000e-06</td>\n",
       "      <td>0.064500</td>\n",
       "      <td>0.002500</td>\n",
       "      <td>3</td>\n",
       "      <td>5.162857</td>\n",
       "      <td>5.16277</td>\n",
       "      <td>0.03</td>\n",
       "      <td>0.005</td>\n",
       "    </tr>\n",
       "    <tr>\n",
       "      <th>4</th>\n",
       "      <td>0.4974</td>\n",
       "      <td>0.4960</td>\n",
       "      <td>0.000497</td>\n",
       "      <td>0.000500</td>\n",
       "      <td>7.000000e-07</td>\n",
       "      <td>0.005882</td>\n",
       "      <td>0.000029</td>\n",
       "      <td>35</td>\n",
       "      <td>4.662867</td>\n",
       "      <td>4.66277</td>\n",
       "      <td>0.03</td>\n",
       "      <td>0.005</td>\n",
       "    </tr>\n",
       "    <tr>\n",
       "      <th>5</th>\n",
       "      <td>0.1954</td>\n",
       "      <td>0.1971</td>\n",
       "      <td>0.000196</td>\n",
       "      <td>0.000200</td>\n",
       "      <td>8.500000e-07</td>\n",
       "      <td>0.014667</td>\n",
       "      <td>0.000167</td>\n",
       "      <td>13</td>\n",
       "      <td>4.662867</td>\n",
       "      <td>4.66277</td>\n",
       "      <td>0.03</td>\n",
       "      <td>0.005</td>\n",
       "    </tr>\n",
       "    <tr>\n",
       "      <th>6</th>\n",
       "      <td>0.1015</td>\n",
       "      <td>0.0988</td>\n",
       "      <td>0.000100</td>\n",
       "      <td>0.000100</td>\n",
       "      <td>1.350000e-06</td>\n",
       "      <td>0.029167</td>\n",
       "      <td>0.000667</td>\n",
       "      <td>7</td>\n",
       "      <td>4.662867</td>\n",
       "      <td>4.66277</td>\n",
       "      <td>0.03</td>\n",
       "      <td>0.005</td>\n",
       "    </tr>\n",
       "    <tr>\n",
       "      <th>7</th>\n",
       "      <td>0.0509</td>\n",
       "      <td>0.0484</td>\n",
       "      <td>0.000050</td>\n",
       "      <td>0.000050</td>\n",
       "      <td>1.250000e-06</td>\n",
       "      <td>0.058000</td>\n",
       "      <td>0.002500</td>\n",
       "      <td>3</td>\n",
       "      <td>4.662867</td>\n",
       "      <td>4.66277</td>\n",
       "      <td>0.03</td>\n",
       "      <td>0.005</td>\n",
       "    </tr>\n",
       "    <tr>\n",
       "      <th>8</th>\n",
       "      <td>0.0234</td>\n",
       "      <td>0.0256</td>\n",
       "      <td>0.000024</td>\n",
       "      <td>0.000025</td>\n",
       "      <td>1.100000e-06</td>\n",
       "      <td>0.122000</td>\n",
       "      <td>0.017000</td>\n",
       "      <td>2</td>\n",
       "      <td>4.662867</td>\n",
       "      <td>4.66277</td>\n",
       "      <td>0.03</td>\n",
       "      <td>0.005</td>\n",
       "    </tr>\n",
       "    <tr>\n",
       "      <th>9</th>\n",
       "      <td>0.4974</td>\n",
       "      <td>0.4960</td>\n",
       "      <td>0.000497</td>\n",
       "      <td>0.000500</td>\n",
       "      <td>7.000000e-07</td>\n",
       "      <td>0.006176</td>\n",
       "      <td>0.000059</td>\n",
       "      <td>35</td>\n",
       "      <td>4.912862</td>\n",
       "      <td>4.91277</td>\n",
       "      <td>0.03</td>\n",
       "      <td>0.005</td>\n",
       "    </tr>\n",
       "    <tr>\n",
       "      <th>10</th>\n",
       "      <td>0.1954</td>\n",
       "      <td>0.1971</td>\n",
       "      <td>0.000196</td>\n",
       "      <td>0.000200</td>\n",
       "      <td>8.500000e-07</td>\n",
       "      <td>0.015333</td>\n",
       "      <td>0.000167</td>\n",
       "      <td>13</td>\n",
       "      <td>4.912862</td>\n",
       "      <td>4.91277</td>\n",
       "      <td>0.03</td>\n",
       "      <td>0.005</td>\n",
       "    </tr>\n",
       "    <tr>\n",
       "      <th>11</th>\n",
       "      <td>0.1015</td>\n",
       "      <td>0.0988</td>\n",
       "      <td>0.000100</td>\n",
       "      <td>0.000100</td>\n",
       "      <td>1.350000e-06</td>\n",
       "      <td>0.030833</td>\n",
       "      <td>0.000667</td>\n",
       "      <td>7</td>\n",
       "      <td>4.912862</td>\n",
       "      <td>4.91277</td>\n",
       "      <td>0.03</td>\n",
       "      <td>0.005</td>\n",
       "    </tr>\n",
       "    <tr>\n",
       "      <th>12</th>\n",
       "      <td>0.0509</td>\n",
       "      <td>0.0484</td>\n",
       "      <td>0.000050</td>\n",
       "      <td>0.000050</td>\n",
       "      <td>1.250000e-06</td>\n",
       "      <td>0.062000</td>\n",
       "      <td>0.005000</td>\n",
       "      <td>3</td>\n",
       "      <td>4.912862</td>\n",
       "      <td>4.91277</td>\n",
       "      <td>0.03</td>\n",
       "      <td>0.005</td>\n",
       "    </tr>\n",
       "    <tr>\n",
       "      <th>13</th>\n",
       "      <td>0.0234</td>\n",
       "      <td>0.0256</td>\n",
       "      <td>0.000024</td>\n",
       "      <td>0.000025</td>\n",
       "      <td>1.100000e-06</td>\n",
       "      <td>0.123000</td>\n",
       "      <td>0.010000</td>\n",
       "      <td>2</td>\n",
       "      <td>4.912862</td>\n",
       "      <td>4.91277</td>\n",
       "      <td>0.03</td>\n",
       "      <td>0.005</td>\n",
       "    </tr>\n",
       "  </tbody>\n",
       "</table>\n",
       "</div>"
      ],
      "text/plain": [
       "       d_b     d_t  original d         d       delta_d         y   delta_y  \\\n",
       "0   0.4974  0.4960    0.000497  0.000500  7.000000e-07  0.006500  0.000036   \n",
       "1   0.1954  0.1971    0.000196  0.000200  8.500000e-07  0.016200  0.000200   \n",
       "2   0.1015  0.0988    0.000100  0.000100  1.350000e-06  0.032167  0.000500   \n",
       "3   0.0509  0.0484    0.000050  0.000050  1.250000e-06  0.064500  0.002500   \n",
       "4   0.4974  0.4960    0.000497  0.000500  7.000000e-07  0.005882  0.000029   \n",
       "5   0.1954  0.1971    0.000196  0.000200  8.500000e-07  0.014667  0.000167   \n",
       "6   0.1015  0.0988    0.000100  0.000100  1.350000e-06  0.029167  0.000667   \n",
       "7   0.0509  0.0484    0.000050  0.000050  1.250000e-06  0.058000  0.002500   \n",
       "8   0.0234  0.0256    0.000024  0.000025  1.100000e-06  0.122000  0.017000   \n",
       "9   0.4974  0.4960    0.000497  0.000500  7.000000e-07  0.006176  0.000059   \n",
       "10  0.1954  0.1971    0.000196  0.000200  8.500000e-07  0.015333  0.000167   \n",
       "11  0.1015  0.0988    0.000100  0.000100  1.350000e-06  0.030833  0.000667   \n",
       "12  0.0509  0.0484    0.000050  0.000050  1.250000e-06  0.062000  0.005000   \n",
       "13  0.0234  0.0256    0.000024  0.000025  1.100000e-06  0.123000  0.010000   \n",
       "\n",
       "     n         D      D_h   D_v  delta_D_h  \n",
       "0   29  5.162857  5.16277  0.03      0.005  \n",
       "1   11  5.162857  5.16277  0.03      0.005  \n",
       "2    7  5.162857  5.16277  0.03      0.005  \n",
       "3    3  5.162857  5.16277  0.03      0.005  \n",
       "4   35  4.662867  4.66277  0.03      0.005  \n",
       "5   13  4.662867  4.66277  0.03      0.005  \n",
       "6    7  4.662867  4.66277  0.03      0.005  \n",
       "7    3  4.662867  4.66277  0.03      0.005  \n",
       "8    2  4.662867  4.66277  0.03      0.005  \n",
       "9   35  4.912862  4.91277  0.03      0.005  \n",
       "10  13  4.912862  4.91277  0.03      0.005  \n",
       "11   7  4.912862  4.91277  0.03      0.005  \n",
       "12   3  4.912862  4.91277  0.03      0.005  \n",
       "13   2  4.912862  4.91277  0.03      0.005  "
      ]
     },
     "execution_count": 438,
     "metadata": {},
     "output_type": "execute_result"
    }
   ],
   "source": [
    "#get the raw data\n",
    "import pandas as pd\n",
    "data = pd.read_csv('./data/ex_inv_data.csv', skiprows = 3, dtype = 'float')\n",
    "\n",
    "#clean the data up a bit:\n",
    "\n",
    "#Round the slit width to even multiples of 25 um\n",
    "data.insert(2, \"original d\", data.d)\n",
    "data.d = np.round(data.d / 25e-6) * 25e-6\n",
    "\n",
    "#note this is actually wrong, it should be (grating to mirror dist) + sqrt(mirror to screen dist**2 + D_h**2)\n",
    "data.insert(8, \"D\", np.sqrt(data.D_h **2 + data.D_v **2))\n",
    "\n",
    "#convert y and delta_y to meters and divide it by n-1\n",
    "data.y = data.y * 1e-3 / (data.n - 1)\n",
    "data.delta_y = data.delta_y * 1e-3 / (data.n - 1)\n",
    "\n",
    "data"
   ]
  },
  {
   "cell_type": "markdown",
   "metadata": {},
   "source": [
    "$$\\frac{\\Delta (\\frac{1}{y})}{\\frac{1}{y}} = \\frac{\\Delta y}{y}$$\n",
    "$$\\Delta y = \\frac{\\Delta y}{y^2}$$"
   ]
  },
  {
   "cell_type": "code",
   "execution_count": 430,
   "metadata": {
    "collapsed": false
   },
   "outputs": [
    {
     "data": {
      "image/png": "[encoded data removed]",
      "text/plain": [
       "<matplotlib.figure.Figure at 0x126a08710>"
      ]
     },
     "metadata": {},
     "output_type": "display_data"
    }
   ],
   "source": [
    "f, axes = plt.subplots(3, sharex='col')\n",
    "\n",
    "# Set common labels\n",
    "f.text(0.5, 0.04, 'Slit width / mm', ha='center', va='center', fontsize = 16)\n",
    "f.text(0.06, 0.5, 'Inverse 1st Minima position / m$^{-1}$', ha='center', va='center', rotation='vertical', fontsize = 16)\n",
    "\n",
    "f.suptitle(\"Inverse 1st Minima position against slit width\", fontsize=16)\n",
    "\n",
    "#loop over three subsets of the data and plot\n",
    "for ex, ax in zip((data[0:4], data[4:9], data[9:]), axes):\n",
    "    #ax.set_xlim([0, 5.0])\n",
    "    \n",
    "    #plotting inverse y\n",
    "    inv_y = 1 / ex.y\n",
    "    d_inv_y = ex.delta_y  / ex.y**2\n",
    "    \n",
    "    ax.errorbar(1e3 * ex[\"d\"], inv_y, yerr = d_inv_y.as_matrix())\n",
    "    ax.set_title(\"D = {:.4}m ± 5mm\".format(ex.iloc[ 0,  11]))\n",
    "    "
   ]
  },
  {
   "cell_type": "markdown",
   "metadata": {},
   "source": [
    "We want to fit a function of the form:\n",
    "$$ y = \\lambda \\frac{D}{d} $$"
   ]
  },
  {
   "cell_type": "code",
   "execution_count": 431,
   "metadata": {
    "collapsed": false
   },
   "outputs": [
    {
     "name": "stdout",
     "output_type": "stream",
     "text": [
      "Our lambda = 6.289e-07 ± 2e-09\n",
      "External lambda = 6.272e-07 ± 1e-09\n"
     ]
    }
   ],
   "source": [
    "true_l = 632.8e-9\n",
    "\n",
    "from scipy.optimize import curve_fit\n",
    "\n",
    "def fn(x, l):\n",
    "    D, d = x\n",
    "    return l*D / d\n",
    "\n",
    "def fit(D ,d ,y, delta_y, p0 = true_l):\n",
    "    popt, pcov = curve_fit(fn, np.array([D, d]), y, p0 = p0, sigma = delta_y, absolute_sigma = True)\n",
    "    l = popt[0]\n",
    "    sigma = np.sqrt(pcov[0])[0]\n",
    "    return l, sigma\n",
    "\n",
    "l, delta_l = fit(data.D, data.d, data.y, data.delta_y)\n",
    "print(\"Our lambda = {:.4} ± {:.1}\".format(l, delta_l))\n",
    "\n",
    "\n",
    "### results from the paper we found ###\n",
    "g = 0.601 * 1e6 #m^-1\n",
    "delta_g = 0.003 * 1e6 #m^-1\n",
    "L = 2.653 #m\n",
    "l2 = 1 / (g * L)\n",
    "delta_l2 = delta_g / (L * g)**2\n",
    "\n",
    "print(\"External lambda = {:.4} ± {:.1}\".format(l2, delta_l2))"
   ]
  },
  {
   "cell_type": "markdown",
   "metadata": {},
   "source": [
    "The above regression doesn't take into account the errors in D so I'll try adding gaussian noise N(mean = 0, sigma) to the D values and runnning the regression many times, to estimate the error in the regression due to error in D"
   ]
  },
  {
   "cell_type": "code",
   "execution_count": 432,
   "metadata": {
    "collapsed": false
   },
   "outputs": [
    {
     "name": "stdout",
     "output_type": "stream",
     "text": [
      "sigma due to errors in D: ±0.294nm\n",
      "sigma due to errors in y: ±1.84nm\n",
      "Total: ±1.86nm\n"
     ]
    }
   ],
   "source": [
    "def trial():\n",
    "    noise = np.random.normal(loc = 0.0, scale = 0.005, size = len(data.D))\n",
    "    D = data.D + noise\n",
    "    l, sigma = fit(D, data.d, data.y, data.delta_y)\n",
    "    return l\n",
    "ls = np.array([trial() for i in range(1000)])\n",
    "print(\"sigma due to errors in D: ±{:.3}nm\".format(ls.std() * 1e9))\n",
    "print(\"sigma due to errors in y: ±{:.3}nm\".format(delta_l * 1e9))\n",
    "print(\"Total: ±{:.3}nm\".format(np.sqrt(delta_l**2 + ls.std()**2) * 1e9))"
   ]
  },
  {
   "cell_type": "markdown",
   "metadata": {},
   "source": [
    "Clearly the error in D makes very little difference"
   ]
  },
  {
   "cell_type": "code",
   "execution_count": 433,
   "metadata": {
    "collapsed": false
   },
   "outputs": [
    {
     "data": {
      "text/plain": [
       "<matplotlib.text.Text at 0x1266bb198>"
      ]
     },
     "execution_count": 433,
     "metadata": {},
     "output_type": "execute_result"
    },
    {
     "data": {
      "image/png": "[encoded data removed]",
      "text/plain": [
       "<matplotlib.figure.Figure at 0x126686c50>"
      ]
     },
     "metadata": {},
     "output_type": "display_data"
    }
   ],
   "source": [
    "#collect the results together with some labels\n",
    "ls = np.array([l, l2]) * 1e9\n",
    "delta_ls = np.array([delta_l, delta_l2]) * 1e9\n",
    "labels = ('Our\\nSingle slit\\n diffraction', 'External\\nSingle slit\\ndiffraction')\n",
    "\n",
    "#our value for lambda\n",
    "plt.scatter((1), (l * 1e9))\n",
    "plt.errorbar((1), (l * 1e9), yerr = (delta_l * 1e9))\n",
    "plt.annotate(labels[0], (1.05,l*1e9))\n",
    "\n",
    "#external experiment\n",
    "plt.scatter((2), (l2 * 1e9))\n",
    "plt.errorbar((2), (l2 * 1e9), yerr = (delta_l2 * 1e9))\n",
    "plt.annotate(labels[1], (2.05,l2*1e9))\n",
    "\n",
    "#true value\n",
    "plt.plot((0, 3), (true_l * 1e9, true_l * 1e9), \"--\")\n",
    "plt.annotate(\"True Value\", (1,true_l * 1e9 + 0.2))\n",
    "\n",
    "plt.gca().get_xaxis().set_visible(False)\n",
    "plt.title(\"Results\")\n",
    "plt.xlim((0,3))\n",
    "plt.gca().set_ylabel('Wavelength / nm')"
   ]
  },
  {
   "cell_type": "code",
   "execution_count": null,
   "metadata": {
    "collapsed": true
   },
   "outputs": [],
   "source": []
  }
 ],
 "metadata": {
  "kernelspec": {
   "display_name": "Python 3",
   "language": "python",
   "name": "python3"
  },
  "language_info": {
   "codemirror_mode": {
    "name": "ipython",
    "version": 3
   },
   "file_extension": ".py",
   "mimetype": "text/x-python",
   "name": "python",
   "nbconvert_exporter": "python",
   "pygments_lexer": "ipython3",
   "version": "3.5.1"
  }
 },
 "nbformat": 4,
 "nbformat_minor": 0
}
