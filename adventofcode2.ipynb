{
 "cells": [
  {
   "cell_type": "code",
   "execution_count": 36,
   "metadata": {
    "collapsed": false
   },
   "outputs": [
    {
     "name": "stdout",
     "output_type": "stream",
     "text": [
      "hxbxxyzz\n",
      "hxcaabcc\n"
     ]
    }
   ],
   "source": [
    "from string import ascii_lowercase\n",
    "def increment_number_list(a, base = 26):\n",
    "    \"take a list a = [... a2, a1, a0] which represents the sumber a0 + base*a1 + baseˆ2 * a2 + ... and increment it\"\n",
    "    carry = 1 #would normally be 0 but we want to increment a\n",
    "    out = []\n",
    "    for i in reversed(a):\n",
    "        if i + carry == base: #overflow\n",
    "            carry = 1\n",
    "            out.append(0)\n",
    "        else:\n",
    "            out.append(i + carry)\n",
    "            carry = 0\n",
    "    \n",
    "    #at the end we may need to extend the number\n",
    "    if carry == 1:\n",
    "        out.append(1)\n",
    "            \n",
    "    return out[::-1]\n",
    "\n",
    "def increment_string(string):\n",
    "    char2num = {l:n for n,l in enumerate(ascii_lowercase)}\n",
    "    num2char = {n:l for n,l in enumerate(ascii_lowercase)}\n",
    "    number_list = [char2num[c] for c in string]\n",
    "    out = increment_number_list(number_list)\n",
    "    return \"\".join(num2char[i] for i in out)\n",
    "            \n",
    "def consecutive_letters(n=3):\n",
    "    cs = ascii_lowercase\n",
    "    return [cs[i:i+n] for i in range(len(cs) - n + 1)]\n",
    "    \n",
    "from re import findall\n",
    "def good_password(string):\n",
    "    a = not any(c in string for c in \"iol\")\n",
    "    b = len(set(findall(r\"([a-z])\\1\", string))) > 1\n",
    "    c = any(triple in string for triple in consecutive_letters())\n",
    "    return a and b and c\n",
    "    \n",
    "def find_next_pass(password):\n",
    "    password = increment_string(password)\n",
    "    while not good_password(password):\n",
    "        password = increment_string(password)\n",
    "    return password\n",
    "\n",
    "print find_next_pass(\"hxbxwxba\")\n",
    "print find_next_pass(find_next_pass(\"hxbxwxba\"))"
   ]
  },
  {
   "cell_type": "code",
   "execution_count": 13,
   "metadata": {
    "collapsed": false
   },
   "outputs": [
    {
     "data": {
      "text/plain": [
       "[9, 8, 7, 6, 5, 4, 3, 2, 1, 0]"
      ]
     },
     "execution_count": 13,
     "metadata": {},
     "output_type": "execute_result"
    }
   ],
   "source": []
  },
  {
   "cell_type": "code",
   "execution_count": null,
   "metadata": {
    "collapsed": true
   },
   "outputs": [],
   "source": []
  }
 ],
 "metadata": {
  "kernelspec": {
   "display_name": "Python 2",
   "language": "python",
   "name": "python2"
  },
  "language_info": {
   "codemirror_mode": {
    "name": "ipython",
    "version": 2
   },
   "file_extension": ".py",
   "mimetype": "text/x-python",
   "name": "python",
   "nbconvert_exporter": "python",
   "pygments_lexer": "ipython2",
   "version": "2.7.10"
  }
 },
 "nbformat": 4,
 "nbformat_minor": 0
}
