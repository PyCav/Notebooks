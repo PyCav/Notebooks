{
 "cells": [
  {
   "cell_type": "code",
   "execution_count": 48,
   "metadata": {
    "collapsed": true
   },
   "outputs": [],
   "source": [
    "from sympy import *\n",
    "from IPython.display import display\n",
    "init_printing(use_latex='mathjax')\n",
    "%matplotlib inline"
   ]
  },
  {
   "cell_type": "code",
   "execution_count": 49,
   "metadata": {
    "collapsed": false
   },
   "outputs": [
    {
     "data": {
      "text/latex": [
       "$$\\left[\\begin{matrix}\\frac{\\sqrt{2}}{2} & \\frac{\\sqrt{2}}{2} & 0\\\\\\frac{\\sqrt{3}}{3} & - \\frac{\\sqrt{3}}{3} & \\frac{\\sqrt{3}}{3}\\\\\\frac{\\sqrt{6}}{6} & - \\frac{\\sqrt{6}}{6} & - \\frac{\\sqrt{6}}{3}\\end{matrix}\\right]$$"
      ],
      "text/plain": [
       "⎡  ___     ___          ⎤\n",
       "⎢╲╱ 2    ╲╱ 2           ⎥\n",
       "⎢─────   ─────      0   ⎥\n",
       "⎢  2       2            ⎥\n",
       "⎢                       ⎥\n",
       "⎢  ___     ___      ___ ⎥\n",
       "⎢╲╱ 3   -╲╱ 3     ╲╱ 3  ⎥\n",
       "⎢─────  ───────   ───── ⎥\n",
       "⎢  3       3        3   ⎥\n",
       "⎢                       ⎥\n",
       "⎢  ___     ___      ___ ⎥\n",
       "⎢╲╱ 6   -╲╱ 6    -╲╱ 6  ⎥\n",
       "⎢─────  ───────  ───────⎥\n",
       "⎣  6       6        3   ⎦"
      ]
     },
     "execution_count": 49,
     "metadata": {},
     "output_type": "execute_result"
    }
   ],
   "source": [
    "L2 = Matrix([[sqrt(3), sqrt(3), 0],\n",
    "            [sqrt(2), -sqrt(2), sqrt(2)],\n",
    "            [1, -1, -2]]) / sqrt(6)\n",
    "L2"
   ]
  },
  {
   "cell_type": "code",
   "execution_count": 50,
   "metadata": {
    "collapsed": false
   },
   "outputs": [
    {
     "data": {
      "text/latex": [
       "$$\\left[\\begin{matrix}1 & 0 & 0\\\\0 & 1 & 0\\\\0 & 0 & 1\\end{matrix}\\right]$$"
      ],
      "text/plain": [
       "⎡1  0  0⎤\n",
       "⎢       ⎥\n",
       "⎢0  1  0⎥\n",
       "⎢       ⎥\n",
       "⎣0  0  1⎦"
      ]
     },
     "execution_count": 50,
     "metadata": {},
     "output_type": "execute_result"
    }
   ],
   "source": [
    "I = Matrix([[1, 0, 0],\n",
    "          [0, 1, 0],\n",
    "          [0, 0, 1]])\n",
    "I"
   ]
  },
  {
   "cell_type": "code",
   "execution_count": 51,
   "metadata": {
    "collapsed": false
   },
   "outputs": [
    {
     "data": {
      "text/latex": [
       "$$\\left[\\begin{matrix}\\sqrt{3} & \\sqrt{2} & 1\\\\\\sqrt{3} & - \\sqrt{2} & -1\\\\0 & \\sqrt{2} & -2\\end{matrix}\\right]$$"
      ],
      "text/plain": [
       "⎡  ___    ___     ⎤\n",
       "⎢╲╱ 3   ╲╱ 2    1 ⎥\n",
       "⎢                 ⎥\n",
       "⎢  ___     ___    ⎥\n",
       "⎢╲╱ 3   -╲╱ 2   -1⎥\n",
       "⎢                 ⎥\n",
       "⎢         ___     ⎥\n",
       "⎣  0    ╲╱ 2    -2⎦"
      ]
     },
     "execution_count": 51,
     "metadata": {},
     "output_type": "execute_result"
    }
   ],
   "source": [
    "I3 = L2.T * I\n",
    "I3 * sqrt(6)"
   ]
  },
  {
   "cell_type": "code",
   "execution_count": 52,
   "metadata": {
    "collapsed": false
   },
   "outputs": [
    {
     "data": {
      "text/latex": [
       "$$\\left[\\begin{matrix}\\sqrt{6} + 3 & -2 + \\sqrt{2} + \\sqrt{6} & -2 - \\sqrt{2} + \\sqrt{3}\\\\- \\sqrt{6} + 3 & - \\sqrt{2} + 2 + \\sqrt{6} & \\sqrt{2} + \\sqrt{3} + 2\\\\\\sqrt{6} & - 2 \\sqrt{2} - 2 & - \\sqrt{2} + 4\\end{matrix}\\right]$$"
      ],
      "text/plain": [
       "⎡   ___              ___     ___          ___     ___⎤\n",
       "⎢ ╲╱ 6  + 3   -2 + ╲╱ 2  + ╲╱ 6    -2 - ╲╱ 2  + ╲╱ 3 ⎥\n",
       "⎢                                                    ⎥\n",
       "⎢    ___          ___         ___    ___     ___     ⎥\n",
       "⎢- ╲╱ 6  + 3  - ╲╱ 2  + 2 + ╲╱ 6   ╲╱ 2  + ╲╱ 3  + 2 ⎥\n",
       "⎢                                                    ⎥\n",
       "⎢     ___              ___                ___        ⎥\n",
       "⎣   ╲╱ 6         - 2⋅╲╱ 2  - 2        - ╲╱ 2  + 4    ⎦"
      ]
     },
     "execution_count": 52,
     "metadata": {},
     "output_type": "execute_result"
    }
   ],
   "source": [
    "I4 = I3 ** 2\n",
    "I4 * 6"
   ]
  },
  {
   "cell_type": "code",
   "execution_count": 53,
   "metadata": {
    "collapsed": false
   },
   "outputs": [
    {
     "data": {
      "text/latex": [
       "$$- \\frac{\\sqrt{6}}{3} - \\frac{\\sqrt{3}}{3} + \\frac{\\sqrt{2}}{2}$$"
      ],
      "text/plain": [
       "    ___     ___     ___\n",
       "  ╲╱ 6    ╲╱ 3    ╲╱ 2 \n",
       "- ───── - ───── + ─────\n",
       "    3       3       2  "
      ]
     },
     "execution_count": 53,
     "metadata": {},
     "output_type": "execute_result"
    }
   ],
   "source": [
    "(I3.trace()).simplify()"
   ]
  },
  {
   "cell_type": "code",
   "execution_count": 54,
   "metadata": {
    "collapsed": false
   },
   "outputs": [
    {
     "data": {
      "text/latex": [
       "$$\\left[\\begin{matrix}1 & 0 & 0\\\\0 & 1 & 0\\\\0 & 0 & 1\\end{matrix}\\right]$$"
      ],
      "text/plain": [
       "⎡1  0  0⎤\n",
       "⎢       ⎥\n",
       "⎢0  1  0⎥\n",
       "⎢       ⎥\n",
       "⎣0  0  1⎦"
      ]
     },
     "execution_count": 54,
     "metadata": {},
     "output_type": "execute_result"
    }
   ],
   "source": [
    "I"
   ]
  },
  {
   "cell_type": "code",
   "execution_count": 55,
   "metadata": {
    "collapsed": true
   },
   "outputs": [],
   "source": [
    "M = Matrix([[3, -1, 5],\n",
    "          [1, 0, 5],\n",
    "          [1, -5, 3]])"
   ]
  },
  {
   "cell_type": "code",
   "execution_count": 56,
   "metadata": {
    "collapsed": false
   },
   "outputs": [
    {
     "data": {
      "text/latex": [
       "$$\\left[\\begin{matrix}0 & -1.0 & 2.0\\\\1.0 & 0 & 5.0\\\\-2.0 & -5.0 & 0\\end{matrix}\\right]$$"
      ],
      "text/plain": [
       "⎡ 0    -1.0  2.0⎤\n",
       "⎢               ⎥\n",
       "⎢1.0    0    5.0⎥\n",
       "⎢               ⎥\n",
       "⎣-2.0  -5.0   0 ⎦"
      ]
     },
     "execution_count": 56,
     "metadata": {},
     "output_type": "execute_result"
    }
   ],
   "source": [
    "A = 1/2 * (M - M.T)\n",
    "A"
   ]
  },
  {
   "cell_type": "code",
   "execution_count": 57,
   "metadata": {
    "collapsed": false
   },
   "outputs": [
    {
     "data": {
      "text/latex": [
       "$$\\left[\\begin{matrix}3.0 & 0 & 3.0\\\\0 & 0 & 0\\\\3.0 & 0 & 3.0\\end{matrix}\\right]$$"
      ],
      "text/plain": [
       "⎡3.0  0  3.0⎤\n",
       "⎢           ⎥\n",
       "⎢ 0   0   0 ⎥\n",
       "⎢           ⎥\n",
       "⎣3.0  0  3.0⎦"
      ]
     },
     "execution_count": 57,
     "metadata": {},
     "output_type": "execute_result"
    }
   ],
   "source": [
    "S = 1/2 * (M + M.T)\n",
    "S"
   ]
  },
  {
   "cell_type": "code",
   "execution_count": 58,
   "metadata": {
    "collapsed": false
   },
   "outputs": [
    {
     "data": {
      "text/latex": [
       "$$\\left[\\begin{matrix}1.0 & 0 & 3.0\\\\0 & -2.0 & 0\\\\3.0 & 0 & 1.0\\end{matrix}\\right]$$"
      ],
      "text/plain": [
       "⎡1.0   0    3.0⎤\n",
       "⎢              ⎥\n",
       "⎢ 0   -2.0   0 ⎥\n",
       "⎢              ⎥\n",
       "⎣3.0   0    1.0⎦"
      ]
     },
     "execution_count": 58,
     "metadata": {},
     "output_type": "execute_result"
    }
   ],
   "source": [
    "St = S - 1/3 * S.trace() * I\n",
    "St"
   ]
  },
  {
   "cell_type": "code",
   "execution_count": 61,
   "metadata": {
    "collapsed": false
   },
   "outputs": [
    {
     "data": {
      "text/latex": [
       "$$\\left[\\begin{matrix}3.0 & -1.0 & 5.0\\\\1.0 & 0 & 5.0\\\\1.0 & -5.0 & 3.0\\end{matrix}\\right]$$"
      ],
      "text/plain": [
       "⎡3.0  -1.0  5.0⎤\n",
       "⎢              ⎥\n",
       "⎢1.0   0    5.0⎥\n",
       "⎢              ⎥\n",
       "⎣1.0  -5.0  3.0⎦"
      ]
     },
     "execution_count": 61,
     "metadata": {},
     "output_type": "execute_result"
    }
   ],
   "source": [
    "m = A + St + 1/3 * trace(S) * I\n",
    "m"
   ]
  },
  {
   "cell_type": "code",
   "execution_count": 63,
   "metadata": {
    "collapsed": false
   },
   "outputs": [
    {
     "data": {
      "text/latex": [
       "$$\\left[\\begin{matrix}2.0 & 0 & 0\\\\0 & 2.0 & 0\\\\0 & 0 & 2.0\\end{matrix}\\right]$$"
      ],
      "text/plain": [
       "⎡2.0   0    0 ⎤\n",
       "⎢             ⎥\n",
       "⎢ 0   2.0   0 ⎥\n",
       "⎢             ⎥\n",
       "⎣ 0    0   2.0⎦"
      ]
     },
     "execution_count": 63,
     "metadata": {},
     "output_type": "execute_result"
    }
   ],
   "source": [
    "1/3 * trace(S) * I"
   ]
  },
  {
   "cell_type": "code",
   "execution_count": 65,
   "metadata": {
    "collapsed": false
   },
   "outputs": [
    {
     "data": {
      "text/latex": [
       "$$1.24$$"
      ],
      "text/plain": [
       "1.24"
      ]
     },
     "execution_count": 65,
     "metadata": {},
     "output_type": "execute_result"
    }
   ],
   "source": [
    "2 - 0.76\n"
   ]
  },
  {
   "cell_type": "code",
   "execution_count": 66,
   "metadata": {
    "collapsed": false
   },
   "outputs": [
    {
     "data": {
      "text/latex": [
       "$$8.771666666666667$$"
      ],
      "text/plain": [
       "8.771666666666667"
      ]
     },
     "execution_count": 66,
     "metadata": {},
     "output_type": "execute_result"
    }
   ],
   "source": [
    "from scipy.constants import zero_Celsius as T0\n",
    "(T0 - 10) / 30"
   ]
  },
  {
   "cell_type": "code",
   "execution_count": 67,
   "metadata": {
    "collapsed": false
   },
   "outputs": [
    {
     "data": {
      "text/latex": [
       "$$2.0732198425773385$$"
      ],
      "text/plain": [
       "2.0732198425773385"
      ]
     },
     "execution_count": 67,
     "metadata": {},
     "output_type": "execute_result"
    }
   ],
   "source": [
    "(T0 + 10)/10 * 20 /(T0)"
   ]
  },
  {
   "cell_type": "code",
   "execution_count": null,
   "metadata": {
    "collapsed": true
   },
   "outputs": [],
   "source": []
  }
 ],
 "metadata": {
  "kernelspec": {
   "display_name": "Python 3",
   "language": "python",
   "name": "python3"
  },
  "language_info": {
   "codemirror_mode": {
    "name": "ipython",
    "version": 3
   },
   "file_extension": ".py",
   "mimetype": "text/x-python",
   "name": "python",
   "nbconvert_exporter": "python",
   "pygments_lexer": "ipython3",
   "version": "3.5.1"
  }
 },
 "nbformat": 4,
 "nbformat_minor": 0
}
