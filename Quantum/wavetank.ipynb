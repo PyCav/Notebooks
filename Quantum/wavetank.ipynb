{
 "cells": [
  {
   "cell_type": "code",
   "execution_count": 1,
   "metadata": {
    "collapsed": true
   },
   "outputs": [],
   "source": [
    "from sympy import *\n",
    "from IPython.display import display\n",
    "init_printing(use_latex='mathjax')\n",
    "%matplotlib inline"
   ]
  },
  {
   "cell_type": "code",
   "execution_count": 8,
   "metadata": {
    "collapsed": false
   },
   "outputs": [
    {
     "data": {
      "text/latex": [
       "$$\\left(g' + \\frac{k^{2} \\lambda}{\\rho_{1} + \\rho_{2}}\\right) \\tanh{\\left (d k \\right )}$$"
      ],
      "text/plain": [
       "⎛        2   ⎞          \n",
       "⎜       k ⋅λ ⎟          \n",
       "⎜g' + ───────⎟⋅tanh(d⋅k)\n",
       "⎝     ρ₁ + ρ₂⎠          "
      ]
     },
     "metadata": {},
     "output_type": "display_data"
    },
    {
     "data": {
      "text/latex": [
       "$$d \\left(g' + \\frac{k^{2} \\lambda}{\\rho_{1} + \\rho_{2}}\\right) \\left(- \\tanh^{2}{\\left (d k \\right )} + 1\\right) + \\frac{2 k \\lambda}{\\rho_{1} + \\rho_{2}} \\tanh{\\left (d k \\right )}$$"
      ],
      "text/plain": [
       "  ⎛        2   ⎞                                     \n",
       "  ⎜       k ⋅λ ⎟ ⎛      2         ⎞   2⋅k⋅λ⋅tanh(d⋅k)\n",
       "d⋅⎜g' + ───────⎟⋅⎝- tanh (d⋅k) + 1⎠ + ───────────────\n",
       "  ⎝     ρ₁ + ρ₂⎠                          ρ₁ + ρ₂    "
      ]
     },
     "metadata": {},
     "output_type": "display_data"
    }
   ],
   "source": [
    "omega, k, gdash, lmbda, rho1, rho2, d = symbols(\"omega k g' lamda rho1 rho2 d\")\n",
    "omega = (gdash + (lmbda * k**2 / (rho1 + rho2)))*tanh(k*d)\n",
    "display(omega)\n",
    "display(omega.diff(k))"
   ]
  },
  {
   "cell_type": "code",
   "execution_count": 21,
   "metadata": {
    "collapsed": false
   },
   "outputs": [
    {
     "data": {
      "text/latex": [
       "$$\\left(4 x^{2} - 1\\right) e^{- 2 x^{2}}$$"
      ],
      "text/plain": [
       "                2\n",
       "⎛   2    ⎞  -2⋅x \n",
       "⎝4⋅x  - 1⎠⋅ℯ     "
      ]
     },
     "metadata": {},
     "output_type": "display_data"
    }
   ],
   "source": [
    "x = symbols(\"x\")\n",
    "dom = (x, -oo, +oo)\n",
    "I = (4*x**2  - 1) * exp(-2*x**2)\n",
    "display(I)"
   ]
  },
  {
   "cell_type": "code",
   "execution_count": 22,
   "metadata": {
    "collapsed": false
   },
   "outputs": [
    {
     "data": {
      "text/latex": [
       "$$0$$"
      ],
      "text/plain": [
       "0"
      ]
     },
     "execution_count": 22,
     "metadata": {},
     "output_type": "execute_result"
    }
   ],
   "source": [
    "integrate(I, dom)"
   ]
  },
  {
   "cell_type": "code",
   "execution_count": 27,
   "metadata": {
    "collapsed": false
   },
   "outputs": [
    {
     "data": {
      "text/latex": [
       "$$\\frac{\\sqrt{2} \\sqrt{\\pi}}{8}$$"
      ],
      "text/plain": [
       "  ___   ___\n",
       "╲╱ 2 ⋅╲╱ π \n",
       "───────────\n",
       "     8     "
      ]
     },
     "execution_count": 27,
     "metadata": {},
     "output_type": "execute_result"
    }
   ],
   "source": [
    "integrate(x**2 * exp(-2*x**2), dom)"
   ]
  },
  {
   "cell_type": "code",
   "execution_count": 26,
   "metadata": {
    "collapsed": false
   },
   "outputs": [
    {
     "data": {
      "text/latex": [
       "$$\\frac{\\sqrt{2} \\sqrt{\\pi}}{2}$$"
      ],
      "text/plain": [
       "  ___   ___\n",
       "╲╱ 2 ⋅╲╱ π \n",
       "───────────\n",
       "     2     "
      ]
     },
     "execution_count": 26,
     "metadata": {},
     "output_type": "execute_result"
    }
   ],
   "source": [
    "integrate(exp(-2*x**2), dom)"
   ]
  },
  {
   "cell_type": "code",
   "execution_count": 32,
   "metadata": {
    "collapsed": false
   },
   "outputs": [
    {
     "data": {
      "text/latex": [
       "$$- \\frac{1}{4} e^{- 2 x^{2}}$$"
      ],
      "text/plain": [
       "      2 \n",
       "  -2⋅x  \n",
       "-ℯ      \n",
       "────────\n",
       "   4    "
      ]
     },
     "execution_count": 32,
     "metadata": {},
     "output_type": "execute_result"
    }
   ],
   "source": [
    "integrate(x*exp(-x**2)**2, x)"
   ]
  },
  {
   "cell_type": "code",
   "execution_count": 53,
   "metadata": {
    "collapsed": false
   },
   "outputs": [
    {
     "data": {
      "image/png": "[encoded data removed]",
      "text/latex": [
       "$$\\frac{1}{2}$$"
      ],
      "text/plain": [
       "1/2"
      ]
     },
     "execution_count": 53,
     "metadata": {},
     "output_type": "execute_result"
    }
   ],
   "source": [
    "x = symbols('x')\n",
    "n = symbols('n', integer = True, positive = True)\n",
    "I = sin(n*pi*x)**2\n",
    "dom = (x, 0, 1)\n",
    "integrate(I, dom)"
   ]
  },
  {
   "cell_type": "code",
   "execution_count": 101,
   "metadata": {
    "collapsed": false
   },
   "outputs": [
    {
     "data": {
      "image/png": "[encoded data removed]",
      "text/latex": [
       "$$x \\left(- x + 1\\right)$$"
      ],
      "text/plain": [
       "x⋅(-x + 1)"
      ]
     },
     "metadata": {},
     "output_type": "display_data"
    },
    {
     "data": {
      "image/png": "[encoded data removed]",
      "text/latex": [
       "$$- \\frac{4 \\left(-1\\right)^{n}}{\\pi^{3} n^{3}} + \\frac{4}{\\pi^{3} n^{3}}$$"
      ],
      "text/plain": [
       "        n        \n",
       "  4⋅(-1)      4  \n",
       "- ─────── + ─────\n",
       "    3  3     3  3\n",
       "   π ⋅n     π ⋅n "
      ]
     },
     "metadata": {},
     "output_type": "display_data"
    },
    {
     "data": {
      "image/png": "[encoded data removed]",
      "text/latex": [
       "$$\\frac{8 \\sin{\\left (\\pi x \\left(2 n + 1\\right) \\right )}}{\\pi^{3} \\left(2 n + 1\\right)^{3}}$$"
      ],
      "text/plain": [
       "8⋅sin(π⋅x⋅(2⋅n + 1))\n",
       "────────────────────\n",
       "    3          3    \n",
       "   π ⋅(2⋅n + 1)     "
      ]
     },
     "metadata": {},
     "output_type": "display_data"
    }
   ],
   "source": [
    "f = x*(1-x)\n",
    "display(f)\n",
    "b = sin(n*pi*x)\n",
    "dom = (x, 0, 1)\n",
    "a_n = integrate(f * b, dom) / integrate(b * b, dom)\n",
    "display(a_n)\n",
    "b_n = (a_n * b).subs({n : 2*n + 1})\n",
    "display(b_n)\n"
   ]
  },
  {
   "cell_type": "code",
   "execution_count": 109,
   "metadata": {
    "collapsed": false
   },
   "outputs": [
    {
     "data": {
      "image/png": "[encoded data removed]",
      "text/latex": [
       "$$\\sum_{n=0}^{3} \\frac{8 \\sin{\\left (\\pi x \\left(2 n + 1\\right) \\right )}}{\\pi^{3} \\left(2 n + 1\\right)^{3}}$$"
      ],
      "text/plain": [
       "  3                       \n",
       " ____                     \n",
       " ╲                        \n",
       "  ╲   8⋅sin(π⋅x⋅(2⋅n + 1))\n",
       "   ╲  ────────────────────\n",
       "   ╱      3          3    \n",
       "  ╱      π ⋅(2⋅n + 1)     \n",
       " ╱                        \n",
       " ‾‾‾‾                     \n",
       "False                     "
      ]
     },
     "metadata": {},
     "output_type": "display_data"
    },
    {
     "data": {
      "image/png": "[encoded data removed]",
      "text/plain": [
       "<matplotlib.figure.Figure at 0x10dabd0b8>"
      ]
     },
     "metadata": {},
     "output_type": "display_data"
    },
    {
     "data": {
      "text/plain": [
       "<sympy.plotting.plot.Plot at 0x10ffb5e80>"
      ]
     },
     "execution_count": 109,
     "metadata": {},
     "output_type": "execute_result"
    }
   ],
   "source": [
    "g = Sum(b_n, (n, 0, 3))\n",
    "display(g)\n",
    "plot((g, dom), (f, dom))"
   ]
  },
  {
   "cell_type": "code",
   "execution_count": 114,
   "metadata": {
    "collapsed": false
   },
   "outputs": [
    {
     "data": {
      "image/png": "[encoded data removed]",
      "text/latex": [
       "$$\\frac{8 e^{- \\pi y \\left(2 n + 1\\right)}}{\\pi^{3} \\left(2 n + 1\\right)^{3}} \\sin{\\left (\\pi x \\left(2 n + 1\\right) \\right )}$$"
      ],
      "text/plain": [
       "   -π⋅y⋅(2⋅n + 1)                   \n",
       "8⋅ℯ              ⋅sin(π⋅x⋅(2⋅n + 1))\n",
       "────────────────────────────────────\n",
       "            3          3            \n",
       "           π ⋅(2⋅n + 1)             "
      ]
     },
     "metadata": {},
     "output_type": "display_data"
    },
    {
     "data": {
      "image/png": "[encoded data removed]",
      "text/latex": [
       "$$\\sum_{n=0}^{3} \\frac{8 e^{- \\pi y \\left(2 n + 1\\right)}}{\\pi^{3} \\left(2 n + 1\\right)^{3}} \\sin{\\left (\\pi x \\left(2 n + 1\\right) \\right )}$$"
      ],
      "text/plain": [
       "  3                                       \n",
       "_____                                     \n",
       "╲                                         \n",
       " ╲       -π⋅y⋅(2⋅n + 1)                   \n",
       "  ╲   8⋅ℯ              ⋅sin(π⋅x⋅(2⋅n + 1))\n",
       "   ╲  ────────────────────────────────────\n",
       "   ╱              3          3            \n",
       "  ╱              π ⋅(2⋅n + 1)             \n",
       " ╱                                        \n",
       "╱                                         \n",
       "‾‾‾‾‾                                     \n",
       "False                                     "
      ]
     },
     "metadata": {},
     "output_type": "display_data"
    }
   ],
   "source": [
    "from sympy.plotting.plot import plot3d\n",
    "y = symbols('y')\n",
    "b_n = (a_n * b * exp(-n*pi*y)).subs({n : 2*n + 1})\n",
    "display(b_n)\n",
    "g = Sum(b_n, (n, 0, 3))\n",
    "display(g)"
   ]
  },
  {
   "cell_type": "code",
   "execution_count": 115,
   "metadata": {
    "collapsed": false
   },
   "outputs": [
    {
     "name": "stderr",
     "output_type": "stream",
     "text": [
      "/usr/local/lib/python3.5/site-packages/sympy/plotting/experimental_lambdify.py:165: UserWarning: The evaluation of the expression is problematic. We are trying a failback method that may still work. Please report this as a bug.\n",
      "  warnings.warn('The evaluation of the expression is'\n"
     ]
    },
    {
     "data": {
      "image/png": "[encoded data removed]",
      "text/plain": [
       "<matplotlib.figure.Figure at 0x11133e7b8>"
      ]
     },
     "metadata": {},
     "output_type": "display_data"
    },
    {
     "data": {
      "text/plain": [
       "<sympy.plotting.plot.Plot at 0x11126e438>"
      ]
     },
     "execution_count": 115,
     "metadata": {},
     "output_type": "execute_result"
    }
   ],
   "source": [
    "plot3d((g, (x, 0, 1), (y, 0, 10)))"
   ]
  },
  {
   "cell_type": "code",
   "execution_count": 121,
   "metadata": {
    "collapsed": false
   },
   "outputs": [
    {
     "data": {
      "image/png": "[encoded data removed]",
      "text/latex": [
       "$$\\sum_{m=0}^{\\infty} - \\frac{16}{\\pi^{2} \\left(2 m + 1\\right)^{2}}$$"
      ],
      "text/plain": [
       "  ∞                \n",
       " ____              \n",
       " ╲                 \n",
       "  ╲        -16     \n",
       "   ╲  ─────────────\n",
       "   ╱   2          2\n",
       "  ╱   π ⋅(2⋅m + 1) \n",
       " ╱                 \n",
       " ‾‾‾‾              \n",
       "False              "
      ]
     },
     "metadata": {},
     "output_type": "display_data"
    },
    {
     "data": {
      "image/png": "[encoded data removed]",
      "text/latex": [
       "$$-2.0$$"
      ],
      "text/plain": [
       "-2.00000000000000"
      ]
     },
     "execution_count": 121,
     "metadata": {},
     "output_type": "execute_result"
    }
   ],
   "source": [
    "t = -16 / (2 * m + 1)**2 / pi**2\n",
    "S = Sum(t, (m, 0, oo))\n",
    "display(S)\n",
    "S.doit().evalf()"
   ]
  },
  {
   "cell_type": "code",
   "execution_count": null,
   "metadata": {
    "collapsed": true
   },
   "outputs": [],
   "source": []
  }
 ],
 "metadata": {
  "kernelspec": {
   "display_name": "Python 3",
   "language": "python",
   "name": "python3"
  },
  "language_info": {
   "codemirror_mode": {
    "name": "ipython",
    "version": 3
   },
   "file_extension": ".py",
   "mimetype": "text/x-python",
   "name": "python",
   "nbconvert_exporter": "python",
   "pygments_lexer": "ipython3",
   "version": "3.5.1"
  }
 },
 "nbformat": 4,
 "nbformat_minor": 0
}
