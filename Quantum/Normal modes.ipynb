{
 "cells": [
  {
   "cell_type": "code",
   "execution_count": 2,
   "metadata": {
    "collapsed": false
   },
   "outputs": [],
   "source": [
    "from sympy import *\n",
    "from IPython.display import display\n",
    "init_printing(use_latex='mathjax')\n",
    "%matplotlib inline"
   ]
  },
  {
   "cell_type": "code",
   "execution_count": 3,
   "metadata": {
    "collapsed": false
   },
   "outputs": [
    {
     "data": {
      "text/latex": [
       "$$\\left[\\begin{matrix}2 & -1\\\\- \\alpha & 2 \\alpha\\end{matrix}\\right]$$"
      ],
      "text/plain": [
       "⎡2   -1 ⎤\n",
       "⎢       ⎥\n",
       "⎣-α  2⋅α⎦"
      ]
     },
     "execution_count": 3,
     "metadata": {},
     "output_type": "execute_result"
    }
   ],
   "source": [
    "a = symbols('alpha', positive = True, real = True)\n",
    "K = Matrix([[2, -1], [-a, 2*a]])\n",
    "K"
   ]
  },
  {
   "cell_type": "code",
   "execution_count": 4,
   "metadata": {
    "collapsed": false
   },
   "outputs": [
    {
     "data": {
      "text/latex": [
       "$$\\left [ \\left ( \\alpha - \\sqrt{\\alpha^{2} - \\alpha + 1} + 1, \\quad 1, \\quad \\left [ \\left[\\begin{matrix}\\frac{1}{- \\alpha + \\sqrt{\\alpha^{2} - \\alpha + 1} + 1}\\\\1\\end{matrix}\\right]\\right ]\\right ), \\quad \\left ( \\alpha + \\sqrt{\\alpha^{2} - \\alpha + 1} + 1, \\quad 1, \\quad \\left [ \\left[\\begin{matrix}\\frac{1}{- \\alpha - \\sqrt{\\alpha^{2} - \\alpha + 1} + 1}\\\\1\\end{matrix}\\right]\\right ]\\right )\\right ]$$"
      ],
      "text/plain": [
       "⎡⎛       ____________                                     ⎞  ⎛       _________\n",
       "⎢⎜      ╱  2                  ⎡⎡           1            ⎤⎤⎟  ⎜      ╱  2      \n",
       "⎢⎜α - ╲╱  α  - α + 1  + 1, 1, ⎢⎢────────────────────────⎥⎥⎟, ⎜α + ╲╱  α  - α +\n",
       "⎢⎜                            ⎢⎢        ____________    ⎥⎥⎟  ⎜                \n",
       "⎢⎜                            ⎢⎢       ╱  2             ⎥⎥⎟  ⎜                \n",
       "⎢⎜                            ⎢⎢-α + ╲╱  α  - α + 1  + 1⎥⎥⎟  ⎜                \n",
       "⎢⎜                            ⎢⎢                        ⎥⎥⎟  ⎜                \n",
       "⎣⎝                            ⎣⎣           1            ⎦⎦⎠  ⎝                \n",
       "\n",
       "___                                     ⎞⎤\n",
       "            ⎡⎡           1            ⎤⎤⎟⎥\n",
       " 1  + 1, 1, ⎢⎢────────────────────────⎥⎥⎟⎥\n",
       "            ⎢⎢        ____________    ⎥⎥⎟⎥\n",
       "            ⎢⎢       ╱  2             ⎥⎥⎟⎥\n",
       "            ⎢⎢-α - ╲╱  α  - α + 1  + 1⎥⎥⎟⎥\n",
       "            ⎢⎢                        ⎥⎥⎟⎥\n",
       "            ⎣⎣           1            ⎦⎦⎠⎦"
      ]
     },
     "execution_count": 4,
     "metadata": {},
     "output_type": "execute_result"
    }
   ],
   "source": [
    "l1, l2 = K.eigenvals()\n",
    "K.eigenvects()"
   ]
  },
  {
   "cell_type": "code",
   "execution_count": 5,
   "metadata": {
    "collapsed": false
   },
   "outputs": [
    {
     "ename": "SyntaxError",
     "evalue": "invalid syntax (<ipython-input-5-03df7c5f92d7>, line 1)",
     "output_type": "error",
     "traceback": [
      "\u001b[0;36m  File \u001b[0;32m\"<ipython-input-5-03df7c5f92d7>\"\u001b[0;36m, line \u001b[0;32m1\u001b[0m\n\u001b[0;31m    plot(1/a + 2, , (a, 1, 5))\u001b[0m\n\u001b[0m                  ^\u001b[0m\n\u001b[0;31mSyntaxError\u001b[0m\u001b[0;31m:\u001b[0m invalid syntax\n"
     ]
    }
   ],
   "source": [
    "plot(1/a + 2, , (a, 1, 5))"
   ]
  },
  {
   "cell_type": "code",
   "execution_count": null,
   "metadata": {
    "collapsed": false
   },
   "outputs": [],
   "source": [
    "display(l2)\n",
    "plot(2 - l2, (a, 1, 10))"
   ]
  },
  {
   "cell_type": "code",
   "execution_count": null,
   "metadata": {
    "collapsed": false
   },
   "outputs": [],
   "source": []
  },
  {
   "cell_type": "code",
   "execution_count": null,
   "metadata": {
    "collapsed": false
   },
   "outputs": [],
   "source": [
    "w, w0, l, F = symbols(\"omega omega0 lamda F\")\n",
    "R = F/2 / (w0**2 - w ** 2 - 1.0j * l * w)\n",
    "R.print_mathml()\n",
    "R = R.subs({F:1.0, l:0.1})\n",
    "R1 = R.subs({w0 : 1.0})\n",
    "R2 = R.subs({w0 : 1 / sqrt(3)})\n",
    "\n",
    "plot(abs(R1),abs(R2), (w, 0, 3))\n",
    "plot(arg(R1),arg(R2), (w, 0, 3))\n",
    "\n",
    "plot(abs(R1 + R2), abs(R1 - R2), (w, 0, 3))\n",
    "plot(arg(R1 + R2), arg(R1 - R2), (w, 0, 3))"
   ]
  },
  {
   "cell_type": "code",
   "execution_count": 7,
   "metadata": {
    "collapsed": false
   },
   "outputs": [
    {
     "data": {
      "text/latex": [
       "$$\\left[\\begin{matrix}- w_{2}^{2} - w_{3}^{2} & w_{1} w_{2} & w_{1} w_{3}\\\\w_{1} w_{2} & - w_{1}^{2} - w_{3}^{2} & w_{2} w_{3}\\\\w_{1} w_{3} & w_{2} w_{3} & - w_{1}^{2} - w_{2}^{2}\\end{matrix}\\right]$$"
      ],
      "text/plain": [
       "⎡    2     2                          ⎤\n",
       "⎢- w₂  - w₃      w₁⋅w₂        w₁⋅w₃   ⎥\n",
       "⎢                                     ⎥\n",
       "⎢                 2     2             ⎥\n",
       "⎢   w₁⋅w₂     - w₁  - w₃      w₂⋅w₃   ⎥\n",
       "⎢                                     ⎥\n",
       "⎢                              2     2⎥\n",
       "⎣   w₁⋅w₃        w₂⋅w₃     - w₁  - w₂ ⎦"
      ]
     },
     "execution_count": 7,
     "metadata": {},
     "output_type": "execute_result"
    }
   ],
   "source": [
    "w1, w2, w3 = symbols(\"w_1 w_2 w_3\")\n",
    "M = Matrix([[-(w2**2 + w3**2), w1*w2, w1*w3], [w1*w2, -(w1**2 + w3**2), w2*w3], [w1*w3, w2*w3, -(w1**2 + w2**2)]])\n",
    "M"
   ]
  },
  {
   "cell_type": "code",
   "execution_count": 8,
   "metadata": {
    "collapsed": false
   },
   "outputs": [
    {
     "data": {
      "text/latex": [
       "$$\\left \\{ 0 : 1, \\quad - w_{1}^{2} - w_{2}^{2} - w_{3}^{2} : 2\\right \\}$$"
      ],
      "text/plain": [
       "⎧          2     2     2   ⎫\n",
       "⎨0: 1, - w₁  - w₂  - w₃ : 2⎬\n",
       "⎩                          ⎭"
      ]
     },
     "execution_count": 8,
     "metadata": {},
     "output_type": "execute_result"
    }
   ],
   "source": [
    "M.eigenvals()"
   ]
  },
  {
   "cell_type": "code",
   "execution_count": null,
   "metadata": {
    "collapsed": true
   },
   "outputs": [],
   "source": []
  }
 ],
 "metadata": {
  "kernelspec": {
   "display_name": "Python 3",
   "language": "python",
   "name": "python3"
  },
  "language_info": {
   "codemirror_mode": {
    "name": "ipython",
    "version": 3
   },
   "file_extension": ".py",
   "mimetype": "text/x-python",
   "name": "python",
   "nbconvert_exporter": "python",
   "pygments_lexer": "ipython3",
   "version": "3.5.1"
  }
 },
 "nbformat": 4,
 "nbformat_minor": 0
}
